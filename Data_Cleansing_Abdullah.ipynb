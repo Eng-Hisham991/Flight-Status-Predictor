{
 "cells": [
  {
   "cell_type": "code",
   "execution_count": 1,
   "metadata": {},
   "outputs": [],
   "source": [
    "# Import Dependencies\n",
    "\n",
    "import pandas as pd\n",
    "import glob\n",
    "import numpy as np"
   ]
  },
  {
   "cell_type": "code",
   "execution_count": null,
   "metadata": {},
   "outputs": [],
   "source": [
    "# Read all csv files and concatenate them in one dataFrame.\n",
    "df = pd.concat([pd.read_csv(f, encoding='UTF-8') for f in glob.glob('Months/*.csv')], ignore_index = True)"
   ]
  },
  {
   "cell_type": "code",
   "execution_count": null,
   "metadata": {},
   "outputs": [],
   "source": [
    "df1 = df\n",
    "# df1=df1.drop_duplicates(subset = None, keep ='first', inplace = True)\n",
    "# df1.dropna()\n",
    "df1.drop('Unnamed: 11', axis=1)\n",
    "df1.drop('Unnamed: 13', axis=1)\n",
    "df1.head()"
   ]
  },
  {
   "cell_type": "code",
   "execution_count": null,
   "metadata": {},
   "outputs": [],
   "source": [
    "df1.sort_values(\"FL_DATE\", inplace = True)\n",
    "\n",
    "df1.head(50)"
   ]
  },
  {
   "cell_type": "code",
   "execution_count": null,
   "metadata": {},
   "outputs": [],
   "source": [
    "j = [] \n",
    "\n",
    "for i in range(len(df1)): \n",
    "    if df1['ORIGIN'][i] == \"IAH\": \n",
    "        j.append([df1['FL_DATE'][i], df1['OP_CARRIER'][i],df1['ORIGIN'][i],df1['ORIGIN_CITY_NAME'][i],df1['DEST'][i], \n",
    "                 df1['DEST_CITY_NAME'][i],df1['DEP_DELAY_NEW'][i], df1['CANCELLED'][i]])\n"
   ]
  },
  {
   "cell_type": "code",
   "execution_count": null,
   "metadata": {},
   "outputs": [],
   "source": [
    "df2 = pd.DataFrame(j) \n",
    "df2 = df2.rename(columns = {0:\"Date\",1:\"Airline\",2:\"Origin_Airport\",3:\"Origin_City\",4:\"Destination_Airport\"\n",
    "                     ,5:\"Destination_City\",6:\"Delay_Time\",7:\"Cancelled\"})"
   ]
  },
  {
   "cell_type": "code",
   "execution_count": null,
   "metadata": {},
   "outputs": [],
   "source": [
    "# create a list of our conditions\n",
    "conditions = [\n",
    "    (df2['Delay_Time'] > 20) & (df2['Cancelled'] == 0),\n",
    "    (df2['Cancelled'] == 1),\n",
    "    (df2['Delay_Time'] <= 20) & (df2['Cancelled'] ==0),\n",
    "    ]\n",
    "\n",
    "# create a list of the values we want to assign for each condition\n",
    "values = ['Delayed', 'Cancelled', 'Normal']\n",
    "\n",
    "# create a new column and use np.select to assign values to it using our lists as arguments\n",
    "df2['Flight_Status'] = np.select(conditions, values)\n",
    "\n",
    "# display updated DataFrame\n",
    "df2.sample(5)"
   ]
  },
  {
   "cell_type": "code",
   "execution_count": null,
   "metadata": {},
   "outputs": [],
   "source": [
    "df2['Flight_Status'].value_counts()"
   ]
  },
  {
   "cell_type": "code",
   "execution_count": null,
   "metadata": {},
   "outputs": [],
   "source": [
    "df2.to_csv('data.csv')"
   ]
  },
  {
   "cell_type": "code",
   "execution_count": null,
   "metadata": {
    "scrolled": true
   },
   "outputs": [],
   "source": []
  },
  {
   "cell_type": "code",
   "execution_count": null,
   "metadata": {},
   "outputs": [],
   "source": []
  }
 ],
 "metadata": {
  "kernelspec": {
   "display_name": "Python 3",
   "language": "python",
   "name": "python3"
  },
  "language_info": {
   "codemirror_mode": {
    "name": "ipython",
    "version": 3
   },
   "file_extension": ".py",
   "mimetype": "text/x-python",
   "name": "python",
   "nbconvert_exporter": "python",
   "pygments_lexer": "ipython3",
   "version": "3.7.4"
  }
 },
 "nbformat": 4,
 "nbformat_minor": 4
}
