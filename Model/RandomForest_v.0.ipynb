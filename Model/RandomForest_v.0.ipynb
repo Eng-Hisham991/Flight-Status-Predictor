{
 "cells": [
  {
   "cell_type": "markdown",
   "metadata": {},
   "source": [
    "# Import Dependencies"
   ]
  },
  {
   "cell_type": "code",
   "execution_count": 97,
   "metadata": {},
   "outputs": [],
   "source": [
    "import warnings\n",
    "warnings.simplefilter('ignore')\n",
    "\n",
    "%matplotlib inline\n",
    "import matplotlib.pyplot as plt\n",
    "import numpy as np\n",
    "import pandas as pd"
   ]
  },
  {
   "cell_type": "markdown",
   "metadata": {},
   "source": [
    "# Read the CSV and Perform Basic Data Cleaning"
   ]
  },
  {
   "cell_type": "code",
   "execution_count": 98,
   "metadata": {},
   "outputs": [
    {
     "data": {
      "text/html": [
       "<div>\n",
       "<style scoped>\n",
       "    .dataframe tbody tr th:only-of-type {\n",
       "        vertical-align: middle;\n",
       "    }\n",
       "\n",
       "    .dataframe tbody tr th {\n",
       "        vertical-align: top;\n",
       "    }\n",
       "\n",
       "    .dataframe thead th {\n",
       "        text-align: right;\n",
       "    }\n",
       "</style>\n",
       "<table border=\"1\" class=\"dataframe\">\n",
       "  <thead>\n",
       "    <tr style=\"text-align: right;\">\n",
       "      <th></th>\n",
       "      <th>AIRLINE</th>\n",
       "      <th>AIRLINE_P</th>\n",
       "      <th>DEST_AIRPORT</th>\n",
       "      <th>DEST_AIRPORT_P</th>\n",
       "      <th>Delays</th>\n",
       "      <th>YEAR</th>\n",
       "      <th>MONTH</th>\n",
       "      <th>Flight_Status</th>\n",
       "    </tr>\n",
       "  </thead>\n",
       "  <tbody>\n",
       "    <tr>\n",
       "      <th>0</th>\n",
       "      <td>EV</td>\n",
       "      <td>5</td>\n",
       "      <td>MEM</td>\n",
       "      <td>69</td>\n",
       "      <td>98.0</td>\n",
       "      <td>2017</td>\n",
       "      <td>4</td>\n",
       "      <td>Delayed</td>\n",
       "    </tr>\n",
       "    <tr>\n",
       "      <th>1</th>\n",
       "      <td>EV</td>\n",
       "      <td>5</td>\n",
       "      <td>GPT</td>\n",
       "      <td>40</td>\n",
       "      <td>68.0</td>\n",
       "      <td>2017</td>\n",
       "      <td>4</td>\n",
       "      <td>Delayed</td>\n",
       "    </tr>\n",
       "    <tr>\n",
       "      <th>2</th>\n",
       "      <td>EV</td>\n",
       "      <td>5</td>\n",
       "      <td>SAT</td>\n",
       "      <td>98</td>\n",
       "      <td>92.0</td>\n",
       "      <td>2017</td>\n",
       "      <td>4</td>\n",
       "      <td>Delayed</td>\n",
       "    </tr>\n",
       "    <tr>\n",
       "      <th>3</th>\n",
       "      <td>EV</td>\n",
       "      <td>5</td>\n",
       "      <td>GPT</td>\n",
       "      <td>40</td>\n",
       "      <td>53.0</td>\n",
       "      <td>2017</td>\n",
       "      <td>4</td>\n",
       "      <td>Delayed</td>\n",
       "    </tr>\n",
       "    <tr>\n",
       "      <th>4</th>\n",
       "      <td>NK</td>\n",
       "      <td>8</td>\n",
       "      <td>TPA</td>\n",
       "      <td>112</td>\n",
       "      <td>93.0</td>\n",
       "      <td>2017</td>\n",
       "      <td>4</td>\n",
       "      <td>Delayed</td>\n",
       "    </tr>\n",
       "  </tbody>\n",
       "</table>\n",
       "</div>"
      ],
      "text/plain": [
       "  AIRLINE  AIRLINE_P DEST_AIRPORT  DEST_AIRPORT_P  Delays  YEAR  MONTH  \\\n",
       "0      EV          5          MEM              69    98.0  2017      4   \n",
       "1      EV          5          GPT              40    68.0  2017      4   \n",
       "2      EV          5          SAT              98    92.0  2017      4   \n",
       "3      EV          5          GPT              40    53.0  2017      4   \n",
       "4      NK          8          TPA             112    93.0  2017      4   \n",
       "\n",
       "  Flight_Status  \n",
       "0       Delayed  \n",
       "1       Delayed  \n",
       "2       Delayed  \n",
       "3       Delayed  \n",
       "4       Delayed  "
      ]
     },
     "execution_count": 98,
     "metadata": {},
     "output_type": "execute_result"
    }
   ],
   "source": [
    "df = pd.read_csv(\"../Data/trial1.csv\")\n",
    "# Drop the null columns where all values are null\n",
    "df = df.dropna(axis='columns', how='all')\n",
    "# Drop the null rows\n",
    "df = df.dropna()\n",
    "df.head()"
   ]
  },
  {
   "cell_type": "code",
   "execution_count": 117,
   "metadata": {},
   "outputs": [
    {
     "data": {
      "text/html": [
       "<div>\n",
       "<style scoped>\n",
       "    .dataframe tbody tr th:only-of-type {\n",
       "        vertical-align: middle;\n",
       "    }\n",
       "\n",
       "    .dataframe tbody tr th {\n",
       "        vertical-align: top;\n",
       "    }\n",
       "\n",
       "    .dataframe thead th {\n",
       "        text-align: right;\n",
       "    }\n",
       "</style>\n",
       "<table border=\"1\" class=\"dataframe\">\n",
       "  <thead>\n",
       "    <tr style=\"text-align: right;\">\n",
       "      <th></th>\n",
       "      <th>AIRLINE_P</th>\n",
       "      <th>DEST_AIRPORT_P</th>\n",
       "      <th>Delays</th>\n",
       "      <th>YEAR</th>\n",
       "      <th>MONTH</th>\n",
       "      <th>Flight_Status</th>\n",
       "    </tr>\n",
       "  </thead>\n",
       "  <tbody>\n",
       "    <tr>\n",
       "      <th>0</th>\n",
       "      <td>5</td>\n",
       "      <td>69</td>\n",
       "      <td>98.0</td>\n",
       "      <td>2017</td>\n",
       "      <td>4</td>\n",
       "      <td>Delayed</td>\n",
       "    </tr>\n",
       "    <tr>\n",
       "      <th>1</th>\n",
       "      <td>5</td>\n",
       "      <td>40</td>\n",
       "      <td>68.0</td>\n",
       "      <td>2017</td>\n",
       "      <td>4</td>\n",
       "      <td>Delayed</td>\n",
       "    </tr>\n",
       "    <tr>\n",
       "      <th>2</th>\n",
       "      <td>5</td>\n",
       "      <td>98</td>\n",
       "      <td>92.0</td>\n",
       "      <td>2017</td>\n",
       "      <td>4</td>\n",
       "      <td>Delayed</td>\n",
       "    </tr>\n",
       "    <tr>\n",
       "      <th>3</th>\n",
       "      <td>5</td>\n",
       "      <td>40</td>\n",
       "      <td>53.0</td>\n",
       "      <td>2017</td>\n",
       "      <td>4</td>\n",
       "      <td>Delayed</td>\n",
       "    </tr>\n",
       "    <tr>\n",
       "      <th>4</th>\n",
       "      <td>8</td>\n",
       "      <td>112</td>\n",
       "      <td>93.0</td>\n",
       "      <td>2017</td>\n",
       "      <td>4</td>\n",
       "      <td>Delayed</td>\n",
       "    </tr>\n",
       "  </tbody>\n",
       "</table>\n",
       "</div>"
      ],
      "text/plain": [
       "   AIRLINE_P  DEST_AIRPORT_P  Delays  YEAR  MONTH Flight_Status\n",
       "0          5              69    98.0  2017      4       Delayed\n",
       "1          5              40    68.0  2017      4       Delayed\n",
       "2          5              98    92.0  2017      4       Delayed\n",
       "3          5              40    53.0  2017      4       Delayed\n",
       "4          8             112    93.0  2017      4       Delayed"
      ]
     },
     "execution_count": 117,
     "metadata": {},
     "output_type": "execute_result"
    }
   ],
   "source": [
    "df1 = df.drop(['AIRLINE', 'DEST_AIRPORT'], axis=1)\n",
    "df1.head()"
   ]
  },
  {
   "cell_type": "code",
   "execution_count": 119,
   "metadata": {},
   "outputs": [
    {
     "data": {
      "text/html": [
       "<div>\n",
       "<style scoped>\n",
       "    .dataframe tbody tr th:only-of-type {\n",
       "        vertical-align: middle;\n",
       "    }\n",
       "\n",
       "    .dataframe tbody tr th {\n",
       "        vertical-align: top;\n",
       "    }\n",
       "\n",
       "    .dataframe thead th {\n",
       "        text-align: right;\n",
       "    }\n",
       "</style>\n",
       "<table border=\"1\" class=\"dataframe\">\n",
       "  <thead>\n",
       "    <tr style=\"text-align: right;\">\n",
       "      <th></th>\n",
       "      <th>AIRLINE</th>\n",
       "      <th>ORIGIN_AIRPORT</th>\n",
       "      <th>ORIGIN_CITY</th>\n",
       "      <th>DEST_AIRPORT</th>\n",
       "      <th>DEST_CITY</th>\n",
       "      <th>DEP_DELAY_TIME_MINUTES</th>\n",
       "      <th>CANCELLED</th>\n",
       "      <th>NO_FLIGHTS</th>\n",
       "      <th>CARRIER_DELAY</th>\n",
       "      <th>WEATHER_DELAY</th>\n",
       "      <th>NAS_DELAY</th>\n",
       "      <th>SECURITY_DELAY</th>\n",
       "      <th>LATE_AIRCRAFT_DELAY</th>\n",
       "      <th>YEAR</th>\n",
       "      <th>MONTH</th>\n",
       "      <th>Flight_Status</th>\n",
       "    </tr>\n",
       "  </thead>\n",
       "  <tbody>\n",
       "    <tr>\n",
       "      <th>0</th>\n",
       "      <td>EV</td>\n",
       "      <td>IAH</td>\n",
       "      <td>Houston, TX</td>\n",
       "      <td>MEM</td>\n",
       "      <td>Memphis, TN</td>\n",
       "      <td>58.0</td>\n",
       "      <td>0.0</td>\n",
       "      <td>1.0</td>\n",
       "      <td>0.0</td>\n",
       "      <td>0.0</td>\n",
       "      <td>40.0</td>\n",
       "      <td>0.0</td>\n",
       "      <td>0.0</td>\n",
       "      <td>2017</td>\n",
       "      <td>4</td>\n",
       "      <td>Delayed</td>\n",
       "    </tr>\n",
       "    <tr>\n",
       "      <th>1</th>\n",
       "      <td>EV</td>\n",
       "      <td>IAH</td>\n",
       "      <td>Houston, TX</td>\n",
       "      <td>GPT</td>\n",
       "      <td>Gulfport/Biloxi, MS</td>\n",
       "      <td>33.0</td>\n",
       "      <td>0.0</td>\n",
       "      <td>1.0</td>\n",
       "      <td>33.0</td>\n",
       "      <td>0.0</td>\n",
       "      <td>2.0</td>\n",
       "      <td>0.0</td>\n",
       "      <td>0.0</td>\n",
       "      <td>2017</td>\n",
       "      <td>4</td>\n",
       "      <td>Delayed</td>\n",
       "    </tr>\n",
       "    <tr>\n",
       "      <th>2</th>\n",
       "      <td>EV</td>\n",
       "      <td>IAH</td>\n",
       "      <td>Houston, TX</td>\n",
       "      <td>SAT</td>\n",
       "      <td>San Antonio, TX</td>\n",
       "      <td>45.0</td>\n",
       "      <td>0.0</td>\n",
       "      <td>1.0</td>\n",
       "      <td>45.0</td>\n",
       "      <td>0.0</td>\n",
       "      <td>2.0</td>\n",
       "      <td>0.0</td>\n",
       "      <td>0.0</td>\n",
       "      <td>2017</td>\n",
       "      <td>4</td>\n",
       "      <td>Delayed</td>\n",
       "    </tr>\n",
       "    <tr>\n",
       "      <th>3</th>\n",
       "      <td>EV</td>\n",
       "      <td>IAH</td>\n",
       "      <td>Houston, TX</td>\n",
       "      <td>GPT</td>\n",
       "      <td>Gulfport/Biloxi, MS</td>\n",
       "      <td>23.0</td>\n",
       "      <td>0.0</td>\n",
       "      <td>1.0</td>\n",
       "      <td>23.0</td>\n",
       "      <td>0.0</td>\n",
       "      <td>7.0</td>\n",
       "      <td>0.0</td>\n",
       "      <td>0.0</td>\n",
       "      <td>2017</td>\n",
       "      <td>4</td>\n",
       "      <td>Delayed</td>\n",
       "    </tr>\n",
       "    <tr>\n",
       "      <th>4</th>\n",
       "      <td>NK</td>\n",
       "      <td>IAH</td>\n",
       "      <td>Houston, TX</td>\n",
       "      <td>TPA</td>\n",
       "      <td>Tampa, FL</td>\n",
       "      <td>51.0</td>\n",
       "      <td>0.0</td>\n",
       "      <td>1.0</td>\n",
       "      <td>0.0</td>\n",
       "      <td>0.0</td>\n",
       "      <td>0.0</td>\n",
       "      <td>0.0</td>\n",
       "      <td>42.0</td>\n",
       "      <td>2017</td>\n",
       "      <td>4</td>\n",
       "      <td>Delayed</td>\n",
       "    </tr>\n",
       "  </tbody>\n",
       "</table>\n",
       "</div>"
      ],
      "text/plain": [
       "  AIRLINE ORIGIN_AIRPORT  ORIGIN_CITY DEST_AIRPORT            DEST_CITY  \\\n",
       "0      EV            IAH  Houston, TX          MEM          Memphis, TN   \n",
       "1      EV            IAH  Houston, TX          GPT  Gulfport/Biloxi, MS   \n",
       "2      EV            IAH  Houston, TX          SAT      San Antonio, TX   \n",
       "3      EV            IAH  Houston, TX          GPT  Gulfport/Biloxi, MS   \n",
       "4      NK            IAH  Houston, TX          TPA            Tampa, FL   \n",
       "\n",
       "   DEP_DELAY_TIME_MINUTES  CANCELLED  NO_FLIGHTS  CARRIER_DELAY  \\\n",
       "0                    58.0        0.0         1.0            0.0   \n",
       "1                    33.0        0.0         1.0           33.0   \n",
       "2                    45.0        0.0         1.0           45.0   \n",
       "3                    23.0        0.0         1.0           23.0   \n",
       "4                    51.0        0.0         1.0            0.0   \n",
       "\n",
       "   WEATHER_DELAY  NAS_DELAY  SECURITY_DELAY  LATE_AIRCRAFT_DELAY  YEAR  MONTH  \\\n",
       "0            0.0       40.0             0.0                  0.0  2017      4   \n",
       "1            0.0        2.0             0.0                  0.0  2017      4   \n",
       "2            0.0        2.0             0.0                  0.0  2017      4   \n",
       "3            0.0        7.0             0.0                  0.0  2017      4   \n",
       "4            0.0        0.0             0.0                 42.0  2017      4   \n",
       "\n",
       "  Flight_Status  \n",
       "0       Delayed  \n",
       "1       Delayed  \n",
       "2       Delayed  \n",
       "3       Delayed  \n",
       "4       Delayed  "
      ]
     },
     "execution_count": 119,
     "metadata": {},
     "output_type": "execute_result"
    }
   ],
   "source": [
    "s = pd.read_csv('../data.csv')\n",
    "s.head()"
   ]
  },
  {
   "cell_type": "markdown",
   "metadata": {},
   "source": [
    "# Select features (columns)"
   ]
  },
  {
   "cell_type": "code",
   "execution_count": 100,
   "metadata": {},
   "outputs": [
    {
     "name": "stdout",
     "output_type": "stream",
     "text": [
      "(88399, 5) (88399,)\n"
     ]
    }
   ],
   "source": [
    "X = df1.iloc[:, :-1]  #independent columns\n",
    "y = df1['Flight_Status'].values    #target column i.e price range\n",
    "print(X.shape, y.shape)"
   ]
  },
  {
   "cell_type": "code",
   "execution_count": 101,
   "metadata": {},
   "outputs": [
    {
     "name": "stdout",
     "output_type": "stream",
     "text": [
      "[0 0 0 ... 0 0 1] ['Delayed' 'Delayed' 'Delayed' ... 'Delayed' 'Delayed' 'Normal']\n"
     ]
    }
   ],
   "source": [
    "from sklearn.preprocessing import LabelEncoder, MinMaxScaler\n",
    "from tensorflow.keras.utils import to_categorical\n",
    "label_encoder = LabelEncoder()\n",
    "label_encoder.fit(y.reshape(-1,1))\n",
    "encoded_y = label_encoder.transform(y)\n",
    "\n",
    "\n",
    "# # Step 2: Convert encoded labels to one-hot-encoding\n",
    "# y_categorical = to_categorical(encoded_y)\n",
    "\n",
    "print(encoded_y, y)"
   ]
  },
  {
   "cell_type": "markdown",
   "metadata": {},
   "source": [
    "# Create a Train Test Split"
   ]
  },
  {
   "cell_type": "code",
   "execution_count": 102,
   "metadata": {},
   "outputs": [],
   "source": [
    "from sklearn.model_selection import train_test_split\n",
    "X_train, X_test, y_train, y_test = train_test_split(X,encoded_y,random_state=42,stratify=encoded_y)"
   ]
  },
  {
   "cell_type": "markdown",
   "metadata": {},
   "source": [
    "# Pre-processing\n",
    "\n",
    "Scale the data using the MinMaxScaler and perform some feature selection"
   ]
  },
  {
   "cell_type": "code",
   "execution_count": 103,
   "metadata": {},
   "outputs": [],
   "source": [
    "from sklearn.preprocessing import MinMaxScaler\n",
    "X_scaler = MinMaxScaler().fit(X_train)\n",
    "X_train_scaled = X_scaler.transform(X_train)\n",
    "X_test_scaled = X_scaler.transform(X_test)"
   ]
  },
  {
   "cell_type": "markdown",
   "metadata": {},
   "source": [
    "# Train the model"
   ]
  },
  {
   "cell_type": "code",
   "execution_count": 104,
   "metadata": {},
   "outputs": [],
   "source": [
    "from sklearn.ensemble import RandomForestClassifier\n",
    "from sklearn.metrics import classification_report\n",
    "model = RandomForestClassifier(random_state=42)"
   ]
  },
  {
   "cell_type": "code",
   "execution_count": 105,
   "metadata": {},
   "outputs": [
    {
     "data": {
      "text/plain": [
       "RandomForestClassifier(random_state=42)"
      ]
     },
     "execution_count": 105,
     "metadata": {},
     "output_type": "execute_result"
    }
   ],
   "source": [
    "model.fit(X_train, y_train)"
   ]
  },
  {
   "cell_type": "markdown",
   "metadata": {},
   "source": [
    "## Validate the model using the test data"
   ]
  },
  {
   "cell_type": "code",
   "execution_count": 106,
   "metadata": {},
   "outputs": [],
   "source": [
    "predictions = model.predict(X_test)"
   ]
  },
  {
   "cell_type": "code",
   "execution_count": 107,
   "metadata": {},
   "outputs": [
    {
     "name": "stdout",
     "output_type": "stream",
     "text": [
      "Training Data Score: 0.9937857282915278\n",
      "Testing Data Score: 0.9161085972850679\n"
     ]
    }
   ],
   "source": [
    "print(f\"Training Data Score: {model.score(X_train, y_train)}\")\n",
    "print(f\"Testing Data Score: {model.score(X_test, y_test)}\")"
   ]
  },
  {
   "cell_type": "code",
   "execution_count": 108,
   "metadata": {},
   "outputs": [
    {
     "name": "stdout",
     "output_type": "stream",
     "text": [
      "First 10 Predictions:   [0, 0, 0, 1, 1, 0, 0, 0, 1, 1]\n",
      "First 10 Actual labels: [0, 0, 0, 1, 1, 0, 1, 0, 1, 1]\n"
     ]
    }
   ],
   "source": [
    "print(f\"First 10 Predictions:   {predictions[:10].tolist()}\")\n",
    "print(f\"First 10 Actual labels: {y_test[:10].tolist()}\")"
   ]
  },
  {
   "cell_type": "code",
   "execution_count": 109,
   "metadata": {},
   "outputs": [
    {
     "name": "stdout",
     "output_type": "stream",
     "text": [
      "              precision    recall  f1-score   support\n",
      "\n",
      "     Delayed       0.93      0.96      0.94     15648\n",
      "      Normal       0.89      0.81      0.85      6452\n",
      "\n",
      "    accuracy                           0.92     22100\n",
      "   macro avg       0.91      0.89      0.90     22100\n",
      "weighted avg       0.92      0.92      0.91     22100\n",
      "\n"
     ]
    }
   ],
   "source": [
    "print(classification_report(y_test, predictions,\n",
    "                target_names=df1['Flight_Status'].unique()))"
   ]
  },
  {
   "cell_type": "markdown",
   "metadata": {},
   "source": [
    "# Hyperparameter Tuning\n",
    "\n",
    "Use `GridSearchCV` to tune the model's parameters"
   ]
  },
  {
   "cell_type": "code",
   "execution_count": 110,
   "metadata": {
    "scrolled": true
   },
   "outputs": [
    {
     "name": "stdout",
     "output_type": "stream",
     "text": [
      "Fitting 5 folds for each of 10 candidates, totalling 50 fits\n",
      "[CV] n_estimators=500, max_features=auto, max_depth=8, criterion=gini \n"
     ]
    },
    {
     "name": "stderr",
     "output_type": "stream",
     "text": [
      "[Parallel(n_jobs=1)]: Using backend SequentialBackend with 1 concurrent workers.\n"
     ]
    },
    {
     "name": "stdout",
     "output_type": "stream",
     "text": [
      "[CV]  n_estimators=500, max_features=auto, max_depth=8, criterion=gini, score=0.924, total=  10.0s\n",
      "[CV] n_estimators=500, max_features=auto, max_depth=8, criterion=gini \n"
     ]
    },
    {
     "name": "stderr",
     "output_type": "stream",
     "text": [
      "[Parallel(n_jobs=1)]: Done   1 out of   1 | elapsed:    9.9s remaining:    0.0s\n"
     ]
    },
    {
     "name": "stdout",
     "output_type": "stream",
     "text": [
      "[CV]  n_estimators=500, max_features=auto, max_depth=8, criterion=gini, score=0.925, total=   9.7s\n",
      "[CV] n_estimators=500, max_features=auto, max_depth=8, criterion=gini \n"
     ]
    },
    {
     "name": "stderr",
     "output_type": "stream",
     "text": [
      "[Parallel(n_jobs=1)]: Done   2 out of   2 | elapsed:   19.6s remaining:    0.0s\n"
     ]
    },
    {
     "name": "stdout",
     "output_type": "stream",
     "text": [
      "[CV]  n_estimators=500, max_features=auto, max_depth=8, criterion=gini, score=0.921, total=   9.6s\n",
      "[CV] n_estimators=500, max_features=auto, max_depth=8, criterion=gini \n",
      "[CV]  n_estimators=500, max_features=auto, max_depth=8, criterion=gini, score=0.924, total=   9.8s\n",
      "[CV] n_estimators=500, max_features=auto, max_depth=8, criterion=gini \n",
      "[CV]  n_estimators=500, max_features=auto, max_depth=8, criterion=gini, score=0.922, total=  10.0s\n",
      "[CV] n_estimators=500, max_features=auto, max_depth=4, criterion=entropy \n",
      "[CV]  n_estimators=500, max_features=auto, max_depth=4, criterion=entropy, score=0.923, total=   6.6s\n",
      "[CV] n_estimators=500, max_features=auto, max_depth=4, criterion=entropy \n",
      "[CV]  n_estimators=500, max_features=auto, max_depth=4, criterion=entropy, score=0.925, total=   6.6s\n",
      "[CV] n_estimators=500, max_features=auto, max_depth=4, criterion=entropy \n",
      "[CV]  n_estimators=500, max_features=auto, max_depth=4, criterion=entropy, score=0.921, total=   6.6s\n",
      "[CV] n_estimators=500, max_features=auto, max_depth=4, criterion=entropy \n",
      "[CV]  n_estimators=500, max_features=auto, max_depth=4, criterion=entropy, score=0.924, total=   6.5s\n",
      "[CV] n_estimators=500, max_features=auto, max_depth=4, criterion=entropy \n",
      "[CV]  n_estimators=500, max_features=auto, max_depth=4, criterion=entropy, score=0.922, total=   6.2s\n",
      "[CV] n_estimators=200, max_features=log2, max_depth=4, criterion=entropy \n",
      "[CV]  n_estimators=200, max_features=log2, max_depth=4, criterion=entropy, score=0.923, total=   2.5s\n",
      "[CV] n_estimators=200, max_features=log2, max_depth=4, criterion=entropy \n",
      "[CV]  n_estimators=200, max_features=log2, max_depth=4, criterion=entropy, score=0.925, total=   2.6s\n",
      "[CV] n_estimators=200, max_features=log2, max_depth=4, criterion=entropy \n",
      "[CV]  n_estimators=200, max_features=log2, max_depth=4, criterion=entropy, score=0.921, total=   2.6s\n",
      "[CV] n_estimators=200, max_features=log2, max_depth=4, criterion=entropy \n",
      "[CV]  n_estimators=200, max_features=log2, max_depth=4, criterion=entropy, score=0.924, total=   2.5s\n",
      "[CV] n_estimators=200, max_features=log2, max_depth=4, criterion=entropy \n",
      "[CV]  n_estimators=200, max_features=log2, max_depth=4, criterion=entropy, score=0.922, total=   2.6s\n",
      "[CV] n_estimators=200, max_features=log2, max_depth=8, criterion=gini \n",
      "[CV]  n_estimators=200, max_features=log2, max_depth=8, criterion=gini, score=0.923, total=   4.0s\n",
      "[CV] n_estimators=200, max_features=log2, max_depth=8, criterion=gini \n",
      "[CV]  n_estimators=200, max_features=log2, max_depth=8, criterion=gini, score=0.924, total=   4.0s\n",
      "[CV] n_estimators=200, max_features=log2, max_depth=8, criterion=gini \n",
      "[CV]  n_estimators=200, max_features=log2, max_depth=8, criterion=gini, score=0.921, total=   3.9s\n",
      "[CV] n_estimators=200, max_features=log2, max_depth=8, criterion=gini \n",
      "[CV]  n_estimators=200, max_features=log2, max_depth=8, criterion=gini, score=0.924, total=   3.8s\n",
      "[CV] n_estimators=200, max_features=log2, max_depth=8, criterion=gini \n",
      "[CV]  n_estimators=200, max_features=log2, max_depth=8, criterion=gini, score=0.922, total=   3.8s\n",
      "[CV] n_estimators=200, max_features=sqrt, max_depth=4, criterion=gini \n",
      "[CV]  n_estimators=200, max_features=sqrt, max_depth=4, criterion=gini, score=0.923, total=   2.4s\n",
      "[CV] n_estimators=200, max_features=sqrt, max_depth=4, criterion=gini \n",
      "[CV]  n_estimators=200, max_features=sqrt, max_depth=4, criterion=gini, score=0.924, total=   2.6s\n",
      "[CV] n_estimators=200, max_features=sqrt, max_depth=4, criterion=gini \n",
      "[CV]  n_estimators=200, max_features=sqrt, max_depth=4, criterion=gini, score=0.922, total=   2.5s\n",
      "[CV] n_estimators=200, max_features=sqrt, max_depth=4, criterion=gini \n",
      "[CV]  n_estimators=200, max_features=sqrt, max_depth=4, criterion=gini, score=0.924, total=   2.6s\n",
      "[CV] n_estimators=200, max_features=sqrt, max_depth=4, criterion=gini \n",
      "[CV]  n_estimators=200, max_features=sqrt, max_depth=4, criterion=gini, score=0.922, total=   2.5s\n",
      "[CV] n_estimators=200, max_features=log2, max_depth=4, criterion=gini \n",
      "[CV]  n_estimators=200, max_features=log2, max_depth=4, criterion=gini, score=0.923, total=   2.5s\n",
      "[CV] n_estimators=200, max_features=log2, max_depth=4, criterion=gini \n",
      "[CV]  n_estimators=200, max_features=log2, max_depth=4, criterion=gini, score=0.924, total=   2.6s\n",
      "[CV] n_estimators=200, max_features=log2, max_depth=4, criterion=gini \n",
      "[CV]  n_estimators=200, max_features=log2, max_depth=4, criterion=gini, score=0.922, total=   2.6s\n",
      "[CV] n_estimators=200, max_features=log2, max_depth=4, criterion=gini \n",
      "[CV]  n_estimators=200, max_features=log2, max_depth=4, criterion=gini, score=0.924, total=   2.5s\n",
      "[CV] n_estimators=200, max_features=log2, max_depth=4, criterion=gini \n",
      "[CV]  n_estimators=200, max_features=log2, max_depth=4, criterion=gini, score=0.922, total=   2.5s\n",
      "[CV] n_estimators=200, max_features=log2, max_depth=6, criterion=gini \n",
      "[CV]  n_estimators=200, max_features=log2, max_depth=6, criterion=gini, score=0.923, total=   3.3s\n",
      "[CV] n_estimators=200, max_features=log2, max_depth=6, criterion=gini \n",
      "[CV]  n_estimators=200, max_features=log2, max_depth=6, criterion=gini, score=0.925, total=   3.2s\n",
      "[CV] n_estimators=200, max_features=log2, max_depth=6, criterion=gini \n",
      "[CV]  n_estimators=200, max_features=log2, max_depth=6, criterion=gini, score=0.922, total=   3.2s\n",
      "[CV] n_estimators=200, max_features=log2, max_depth=6, criterion=gini \n",
      "[CV]  n_estimators=200, max_features=log2, max_depth=6, criterion=gini, score=0.924, total=   3.3s\n",
      "[CV] n_estimators=200, max_features=log2, max_depth=6, criterion=gini \n",
      "[CV]  n_estimators=200, max_features=log2, max_depth=6, criterion=gini, score=0.922, total=   3.2s\n",
      "[CV] n_estimators=500, max_features=log2, max_depth=6, criterion=entropy \n",
      "[CV]  n_estimators=500, max_features=log2, max_depth=6, criterion=entropy, score=0.923, total=   8.4s\n",
      "[CV] n_estimators=500, max_features=log2, max_depth=6, criterion=entropy \n",
      "[CV]  n_estimators=500, max_features=log2, max_depth=6, criterion=entropy, score=0.925, total=   8.6s\n",
      "[CV] n_estimators=500, max_features=log2, max_depth=6, criterion=entropy \n",
      "[CV]  n_estimators=500, max_features=log2, max_depth=6, criterion=entropy, score=0.922, total=   8.8s\n",
      "[CV] n_estimators=500, max_features=log2, max_depth=6, criterion=entropy \n",
      "[CV]  n_estimators=500, max_features=log2, max_depth=6, criterion=entropy, score=0.924, total=   8.5s\n",
      "[CV] n_estimators=500, max_features=log2, max_depth=6, criterion=entropy \n",
      "[CV]  n_estimators=500, max_features=log2, max_depth=6, criterion=entropy, score=0.922, total=   8.6s\n",
      "[CV] n_estimators=500, max_features=log2, max_depth=7, criterion=entropy \n",
      "[CV]  n_estimators=500, max_features=log2, max_depth=7, criterion=entropy, score=0.923, total=   9.4s\n",
      "[CV] n_estimators=500, max_features=log2, max_depth=7, criterion=entropy \n",
      "[CV]  n_estimators=500, max_features=log2, max_depth=7, criterion=entropy, score=0.925, total=   9.4s\n",
      "[CV] n_estimators=500, max_features=log2, max_depth=7, criterion=entropy \n",
      "[CV]  n_estimators=500, max_features=log2, max_depth=7, criterion=entropy, score=0.922, total=   9.2s\n",
      "[CV] n_estimators=500, max_features=log2, max_depth=7, criterion=entropy \n",
      "[CV]  n_estimators=500, max_features=log2, max_depth=7, criterion=entropy, score=0.924, total=   9.3s\n",
      "[CV] n_estimators=500, max_features=log2, max_depth=7, criterion=entropy \n",
      "[CV]  n_estimators=500, max_features=log2, max_depth=7, criterion=entropy, score=0.922, total=   9.3s\n",
      "[CV] n_estimators=500, max_features=sqrt, max_depth=4, criterion=entropy \n",
      "[CV]  n_estimators=500, max_features=sqrt, max_depth=4, criterion=entropy, score=0.923, total=   6.7s\n",
      "[CV] n_estimators=500, max_features=sqrt, max_depth=4, criterion=entropy \n",
      "[CV]  n_estimators=500, max_features=sqrt, max_depth=4, criterion=entropy, score=0.925, total=   6.7s\n",
      "[CV] n_estimators=500, max_features=sqrt, max_depth=4, criterion=entropy \n",
      "[CV]  n_estimators=500, max_features=sqrt, max_depth=4, criterion=entropy, score=0.921, total=   8.0s\n",
      "[CV] n_estimators=500, max_features=sqrt, max_depth=4, criterion=entropy \n",
      "[CV]  n_estimators=500, max_features=sqrt, max_depth=4, criterion=entropy, score=0.924, total=   7.7s\n",
      "[CV] n_estimators=500, max_features=sqrt, max_depth=4, criterion=entropy \n",
      "[CV]  n_estimators=500, max_features=sqrt, max_depth=4, criterion=entropy, score=0.922, total=   6.5s\n"
     ]
    },
    {
     "name": "stderr",
     "output_type": "stream",
     "text": [
      "[Parallel(n_jobs=1)]: Done  50 out of  50 | elapsed:  4.7min finished\n"
     ]
    },
    {
     "data": {
      "text/plain": [
       "RandomizedSearchCV(estimator=RandomForestClassifier(random_state=42),\n",
       "                   param_distributions={'criterion': ['gini', 'entropy'],\n",
       "                                        'max_depth': [4, 5, 6, 7, 8],\n",
       "                                        'max_features': ['auto', 'sqrt',\n",
       "                                                         'log2'],\n",
       "                                        'n_estimators': [200, 500]},\n",
       "                   verbose=3)"
      ]
     },
     "execution_count": 110,
     "metadata": {},
     "output_type": "execute_result"
    }
   ],
   "source": [
    "## Create the model ##\n",
    "from sklearn.model_selection import GridSearchCV, RandomizedSearchCV\n",
    "param_grid = { \n",
    "    'n_estimators': [200, 500],\n",
    "    'max_features': ['auto', 'sqrt', 'log2'],\n",
    "    'max_depth' : [4,5,6,7,8],\n",
    "    'criterion' :['gini', 'entropy']\n",
    "}\n",
    "grid = RandomizedSearchCV(model, param_grid, verbose=3)\n",
    "\n",
    "## Train the model ##\n",
    "grid.fit(X_train, y_train)"
   ]
  },
  {
   "cell_type": "code",
   "execution_count": 111,
   "metadata": {},
   "outputs": [
    {
     "name": "stdout",
     "output_type": "stream",
     "text": [
      "Best params : {'n_estimators': 500, 'max_features': 'auto', 'max_depth': 8, 'criterion': 'gini'}\n",
      "Best score:  0.923241663905231\n"
     ]
    }
   ],
   "source": [
    "print(\"Best params :\", grid.best_params_)\n",
    "print(\"Best score: \", grid.best_score_)"
   ]
  },
  {
   "cell_type": "code",
   "execution_count": 112,
   "metadata": {},
   "outputs": [
    {
     "data": {
      "text/plain": [
       "RandomForestClassifier(max_depth=8, n_estimators=500, random_state=42)"
      ]
     },
     "execution_count": 112,
     "metadata": {},
     "output_type": "execute_result"
    }
   ],
   "source": [
    "RFmodel = RandomForestClassifier(random_state=42, n_estimators=500, max_features='auto', max_depth=8, criterion='gini')\n",
    "RFmodel.fit(X_train,y_train)"
   ]
  },
  {
   "cell_type": "code",
   "execution_count": 113,
   "metadata": {},
   "outputs": [
    {
     "name": "stdout",
     "output_type": "stream",
     "text": [
      "              precision    recall  f1-score   support\n",
      "\n",
      "     Delayed       0.92      0.98      0.95     15648\n",
      "      Normal       0.94      0.80      0.86      6452\n",
      "\n",
      "    accuracy                           0.92     22100\n",
      "   macro avg       0.93      0.89      0.90     22100\n",
      "weighted avg       0.93      0.92      0.92     22100\n",
      "\n"
     ]
    }
   ],
   "source": [
    "# Make predictions with the hypertuned model\n",
    "predictions = RFmodel.predict(X_test)\n",
    "print(classification_report(y_test, predictions,\n",
    "                target_names=df1['Flight_Status'].unique()))"
   ]
  },
  {
   "cell_type": "code",
   "execution_count": 114,
   "metadata": {},
   "outputs": [
    {
     "name": "stdout",
     "output_type": "stream",
     "text": [
      "First 10 Predictions:   [0, 0, 0, 1, 1, 0, 0, 0, 1, 1]\n",
      "First 10 Actual labels: [0, 0, 0, 1, 1, 0, 1, 0, 1, 1]\n"
     ]
    }
   ],
   "source": [
    "pred=RFmodel.predict(X_test)\n",
    "print(f\"First 10 Predictions:   {pred[:10].tolist()}\")\n",
    "print(f\"First 10 Actual labels: {y_test[:10].tolist()}\")"
   ]
  },
  {
   "cell_type": "code",
   "execution_count": 115,
   "metadata": {},
   "outputs": [
    {
     "name": "stdout",
     "output_type": "stream",
     "text": [
      "Accuracy for Random Forest on data:  0.924841628959276\n"
     ]
    }
   ],
   "source": [
    "from sklearn.metrics import accuracy_score\n",
    "print(\"Accuracy for Random Forest on data: \",accuracy_score(y_test,pred))"
   ]
  },
  {
   "cell_type": "markdown",
   "metadata": {},
   "source": [
    "# Save the Model"
   ]
  },
  {
   "cell_type": "code",
   "execution_count": 116,
   "metadata": {},
   "outputs": [
    {
     "data": {
      "text/plain": [
       "['RFmodel.sav']"
      ]
     },
     "execution_count": 116,
     "metadata": {},
     "output_type": "execute_result"
    }
   ],
   "source": [
    "# save your model by updating \"your_name\" with your name\n",
    "# and \"your_model\" with your model variable\n",
    "# be sure to turn this in to BCS\n",
    "# if joblib fails to import, try running the command to install in terminal/git-bash\n",
    "import joblib\n",
    "filename = 'RFmodel.sav'\n",
    "joblib.dump(RFmodel, filename)"
   ]
  },
  {
   "cell_type": "code",
   "execution_count": null,
   "metadata": {},
   "outputs": [],
   "source": []
  }
 ],
 "metadata": {
  "kernelspec": {
   "display_name": "Python 3",
   "language": "python",
   "name": "python3"
  },
  "language_info": {
   "codemirror_mode": {
    "name": "ipython",
    "version": 3
   },
   "file_extension": ".py",
   "mimetype": "text/x-python",
   "name": "python",
   "nbconvert_exporter": "python",
   "pygments_lexer": "ipython3",
   "version": "3.7.7"
  }
 },
 "nbformat": 4,
 "nbformat_minor": 4
}
