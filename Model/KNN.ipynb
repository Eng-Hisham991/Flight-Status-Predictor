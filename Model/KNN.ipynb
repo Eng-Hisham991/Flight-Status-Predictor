{
 "cells": [
  {
   "cell_type": "markdown",
   "metadata": {},
   "source": [
    "# Import Dependencies"
   ]
  },
  {
   "cell_type": "code",
   "execution_count": 1,
   "metadata": {},
   "outputs": [],
   "source": [
    "import warnings\n",
    "warnings.simplefilter('ignore')\n",
    "from sklearn.neighbors import KNeighborsClassifier\n",
    "%matplotlib inline\n",
    "import matplotlib.pyplot as plt\n",
    "import numpy as np\n",
    "import pandas as pd"
   ]
  },
  {
   "cell_type": "markdown",
   "metadata": {},
   "source": [
    "# Read the CSV and Perform Basic Data Cleaning"
   ]
  },
  {
   "cell_type": "code",
   "execution_count": 2,
   "metadata": {},
   "outputs": [
    {
     "data": {
      "text/html": [
       "<div>\n",
       "<style scoped>\n",
       "    .dataframe tbody tr th:only-of-type {\n",
       "        vertical-align: middle;\n",
       "    }\n",
       "\n",
       "    .dataframe tbody tr th {\n",
       "        vertical-align: top;\n",
       "    }\n",
       "\n",
       "    .dataframe thead th {\n",
       "        text-align: right;\n",
       "    }\n",
       "</style>\n",
       "<table border=\"1\" class=\"dataframe\">\n",
       "  <thead>\n",
       "    <tr style=\"text-align: right;\">\n",
       "      <th></th>\n",
       "      <th>AIRLINE</th>\n",
       "      <th>AIRLINE_P</th>\n",
       "      <th>DEST_AIRPORT</th>\n",
       "      <th>DEST_AIRPORT_P</th>\n",
       "      <th>Delays</th>\n",
       "      <th>YEAR</th>\n",
       "      <th>MONTH</th>\n",
       "      <th>Flight_Status</th>\n",
       "    </tr>\n",
       "  </thead>\n",
       "  <tbody>\n",
       "    <tr>\n",
       "      <th>0</th>\n",
       "      <td>EV</td>\n",
       "      <td>5</td>\n",
       "      <td>MEM</td>\n",
       "      <td>69</td>\n",
       "      <td>98.0</td>\n",
       "      <td>2017</td>\n",
       "      <td>4</td>\n",
       "      <td>Delayed</td>\n",
       "    </tr>\n",
       "    <tr>\n",
       "      <th>1</th>\n",
       "      <td>EV</td>\n",
       "      <td>5</td>\n",
       "      <td>GPT</td>\n",
       "      <td>40</td>\n",
       "      <td>68.0</td>\n",
       "      <td>2017</td>\n",
       "      <td>4</td>\n",
       "      <td>Delayed</td>\n",
       "    </tr>\n",
       "    <tr>\n",
       "      <th>2</th>\n",
       "      <td>EV</td>\n",
       "      <td>5</td>\n",
       "      <td>SAT</td>\n",
       "      <td>98</td>\n",
       "      <td>92.0</td>\n",
       "      <td>2017</td>\n",
       "      <td>4</td>\n",
       "      <td>Delayed</td>\n",
       "    </tr>\n",
       "    <tr>\n",
       "      <th>3</th>\n",
       "      <td>EV</td>\n",
       "      <td>5</td>\n",
       "      <td>GPT</td>\n",
       "      <td>40</td>\n",
       "      <td>53.0</td>\n",
       "      <td>2017</td>\n",
       "      <td>4</td>\n",
       "      <td>Delayed</td>\n",
       "    </tr>\n",
       "    <tr>\n",
       "      <th>4</th>\n",
       "      <td>NK</td>\n",
       "      <td>8</td>\n",
       "      <td>TPA</td>\n",
       "      <td>112</td>\n",
       "      <td>93.0</td>\n",
       "      <td>2017</td>\n",
       "      <td>4</td>\n",
       "      <td>Delayed</td>\n",
       "    </tr>\n",
       "  </tbody>\n",
       "</table>\n",
       "</div>"
      ],
      "text/plain": [
       "  AIRLINE  AIRLINE_P DEST_AIRPORT  DEST_AIRPORT_P  Delays  YEAR  MONTH  \\\n",
       "0      EV          5          MEM              69    98.0  2017      4   \n",
       "1      EV          5          GPT              40    68.0  2017      4   \n",
       "2      EV          5          SAT              98    92.0  2017      4   \n",
       "3      EV          5          GPT              40    53.0  2017      4   \n",
       "4      NK          8          TPA             112    93.0  2017      4   \n",
       "\n",
       "  Flight_Status  \n",
       "0       Delayed  \n",
       "1       Delayed  \n",
       "2       Delayed  \n",
       "3       Delayed  \n",
       "4       Delayed  "
      ]
     },
     "execution_count": 2,
     "metadata": {},
     "output_type": "execute_result"
    }
   ],
   "source": [
    "df = pd.read_csv(\"../Data/trial1.csv\")\n",
    "# Drop the null columns where all values are null\n",
    "df = df.dropna(axis='columns', how='all')\n",
    "# Drop the null rows\n",
    "df = df.dropna()\n",
    "df.head()"
   ]
  },
  {
   "cell_type": "code",
   "execution_count": 107,
   "metadata": {},
   "outputs": [
    {
     "data": {
      "text/html": [
       "<div>\n",
       "<style scoped>\n",
       "    .dataframe tbody tr th:only-of-type {\n",
       "        vertical-align: middle;\n",
       "    }\n",
       "\n",
       "    .dataframe tbody tr th {\n",
       "        vertical-align: top;\n",
       "    }\n",
       "\n",
       "    .dataframe thead th {\n",
       "        text-align: right;\n",
       "    }\n",
       "</style>\n",
       "<table border=\"1\" class=\"dataframe\">\n",
       "  <thead>\n",
       "    <tr style=\"text-align: right;\">\n",
       "      <th></th>\n",
       "      <th>AIRLINE_P</th>\n",
       "      <th>DEST_AIRPORT_P</th>\n",
       "      <th>Delays</th>\n",
       "      <th>YEAR</th>\n",
       "      <th>MONTH</th>\n",
       "      <th>Flight_Status</th>\n",
       "    </tr>\n",
       "  </thead>\n",
       "  <tbody>\n",
       "    <tr>\n",
       "      <th>0</th>\n",
       "      <td>5</td>\n",
       "      <td>69</td>\n",
       "      <td>98.0</td>\n",
       "      <td>2017</td>\n",
       "      <td>4</td>\n",
       "      <td>Delayed</td>\n",
       "    </tr>\n",
       "    <tr>\n",
       "      <th>1</th>\n",
       "      <td>5</td>\n",
       "      <td>40</td>\n",
       "      <td>68.0</td>\n",
       "      <td>2017</td>\n",
       "      <td>4</td>\n",
       "      <td>Delayed</td>\n",
       "    </tr>\n",
       "    <tr>\n",
       "      <th>2</th>\n",
       "      <td>5</td>\n",
       "      <td>98</td>\n",
       "      <td>92.0</td>\n",
       "      <td>2017</td>\n",
       "      <td>4</td>\n",
       "      <td>Delayed</td>\n",
       "    </tr>\n",
       "    <tr>\n",
       "      <th>3</th>\n",
       "      <td>5</td>\n",
       "      <td>40</td>\n",
       "      <td>53.0</td>\n",
       "      <td>2017</td>\n",
       "      <td>4</td>\n",
       "      <td>Delayed</td>\n",
       "    </tr>\n",
       "    <tr>\n",
       "      <th>4</th>\n",
       "      <td>8</td>\n",
       "      <td>112</td>\n",
       "      <td>93.0</td>\n",
       "      <td>2017</td>\n",
       "      <td>4</td>\n",
       "      <td>Delayed</td>\n",
       "    </tr>\n",
       "  </tbody>\n",
       "</table>\n",
       "</div>"
      ],
      "text/plain": [
       "   AIRLINE_P  DEST_AIRPORT_P  Delays  YEAR  MONTH Flight_Status\n",
       "0          5              69    98.0  2017      4       Delayed\n",
       "1          5              40    68.0  2017      4       Delayed\n",
       "2          5              98    92.0  2017      4       Delayed\n",
       "3          5              40    53.0  2017      4       Delayed\n",
       "4          8             112    93.0  2017      4       Delayed"
      ]
     },
     "execution_count": 107,
     "metadata": {},
     "output_type": "execute_result"
    }
   ],
   "source": [
    "df1 = df.drop(['AIRLINE', 'DEST_AIRPORT'], axis=1)\n",
    "df1.head()"
   ]
  },
  {
   "cell_type": "markdown",
   "metadata": {},
   "source": [
    "# Select features (columns)"
   ]
  },
  {
   "cell_type": "code",
   "execution_count": 108,
   "metadata": {},
   "outputs": [
    {
     "name": "stdout",
     "output_type": "stream",
     "text": [
      "(88399, 5) (88399,)\n"
     ]
    }
   ],
   "source": [
    "X = df1.iloc[:, :-1]  #independent columns\n",
    "y = df1['Flight_Status'].values    #target column i.e price range\n",
    "print(X.shape, y.shape)"
   ]
  },
  {
   "cell_type": "code",
   "execution_count": 109,
   "metadata": {},
   "outputs": [
    {
     "name": "stdout",
     "output_type": "stream",
     "text": [
      "[0 0 0 ... 0 0 1] ['Delayed' 'Delayed' 'Delayed' ... 'Delayed' 'Delayed' 'Normal']\n"
     ]
    }
   ],
   "source": [
    "from sklearn.preprocessing import LabelEncoder, MinMaxScaler\n",
    "from tensorflow.keras.utils import to_categorical\n",
    "label_encoder = LabelEncoder()\n",
    "label_encoder.fit(y.reshape(-1,1))\n",
    "encoded_y = label_encoder.transform(y)\n",
    "\n",
    "\n",
    "# # Step 2: Convert encoded labels to one-hot-encoding\n",
    "# y_categorical = to_categorical(encoded_y)\n",
    "\n",
    "print(encoded_y, y)"
   ]
  },
  {
   "cell_type": "markdown",
   "metadata": {},
   "source": [
    "# Create a Train Test Split"
   ]
  },
  {
   "cell_type": "code",
   "execution_count": 110,
   "metadata": {},
   "outputs": [],
   "source": [
    "from sklearn.model_selection import train_test_split\n",
    "X_train, X_test, y_train, y_test = train_test_split(X,encoded_y,random_state=42,stratify=y)"
   ]
  },
  {
   "cell_type": "markdown",
   "metadata": {},
   "source": [
    "# Pre-processing\n",
    "\n",
    "Scale the data using the MinMaxScaler and perform some feature selection"
   ]
  },
  {
   "cell_type": "code",
   "execution_count": 111,
   "metadata": {},
   "outputs": [],
   "source": [
    "from sklearn.preprocessing import MinMaxScaler\n",
    "X_scaler = MinMaxScaler().fit(X_train)\n",
    "X_train_scaled = X_scaler.transform(X_train)\n",
    "X_test_scaled = X_scaler.transform(X_test)"
   ]
  },
  {
   "cell_type": "markdown",
   "metadata": {},
   "source": [
    "# Train the model"
   ]
  },
  {
   "cell_type": "code",
   "execution_count": 112,
   "metadata": {
    "scrolled": true
   },
   "outputs": [
    {
     "name": "stdout",
     "output_type": "stream",
     "text": [
      "k: 1, Train/Test Score: 0.994/0.891\n",
      "k: 3, Train/Test Score: 0.944/0.910\n",
      "k: 5, Train/Test Score: 0.935/0.916\n",
      "k: 7, Train/Test Score: 0.932/0.918\n",
      "k: 9, Train/Test Score: 0.930/0.921\n",
      "k: 11, Train/Test Score: 0.928/0.921\n",
      "k: 13, Train/Test Score: 0.927/0.920\n",
      "k: 15, Train/Test Score: 0.926/0.921\n",
      "k: 17, Train/Test Score: 0.926/0.921\n",
      "k: 19, Train/Test Score: 0.926/0.922\n",
      "k: 21, Train/Test Score: 0.925/0.922\n",
      "k: 23, Train/Test Score: 0.925/0.922\n",
      "k: 25, Train/Test Score: 0.925/0.923\n",
      "k: 27, Train/Test Score: 0.925/0.923\n",
      "k: 29, Train/Test Score: 0.925/0.923\n",
      "k: 31, Train/Test Score: 0.925/0.924\n",
      "k: 33, Train/Test Score: 0.925/0.923\n",
      "k: 35, Train/Test Score: 0.925/0.923\n",
      "k: 37, Train/Test Score: 0.925/0.923\n",
      "k: 39, Train/Test Score: 0.924/0.923\n",
      "k: 41, Train/Test Score: 0.924/0.924\n",
      "k: 43, Train/Test Score: 0.924/0.923\n",
      "k: 45, Train/Test Score: 0.924/0.924\n",
      "k: 47, Train/Test Score: 0.924/0.924\n",
      "k: 49, Train/Test Score: 0.924/0.924\n",
      "k: 51, Train/Test Score: 0.924/0.924\n",
      "k: 53, Train/Test Score: 0.924/0.924\n",
      "k: 55, Train/Test Score: 0.924/0.923\n",
      "k: 57, Train/Test Score: 0.924/0.923\n",
      "k: 59, Train/Test Score: 0.924/0.924\n"
     ]
    },
    {
     "data": {
      "image/png": "[encoded data removed]",
      "text/plain": [
       "<Figure size 432x288 with 1 Axes>"
      ]
     },
     "metadata": {
      "needs_background": "light"
     },
     "output_type": "display_data"
    }
   ],
   "source": [
    "# Loop through different k values to see which has the highest accuracy\n",
    "# Note: We only use odd numbers because we don't want any ties\n",
    "train_scores = []\n",
    "test_scores = []\n",
    "for k in range(1, 60, 2):\n",
    "    knn = KNeighborsClassifier(n_neighbors=k)\n",
    "    knn.fit(X_train, y_train)\n",
    "    train_score = knn.score(X_train, y_train)\n",
    "    test_score = knn.score(X_test, y_test)\n",
    "    train_scores.append(train_score)\n",
    "    test_scores.append(test_score)\n",
    "    print(f\"k: {k}, Train/Test Score: {train_score:.3f}/{test_score:.3f}\")\n",
    "    \n",
    "    \n",
    "plt.plot(range(1, 60, 2), train_scores, marker='o')\n",
    "plt.plot(range(1, 60, 2), test_scores, marker=\"x\")\n",
    "plt.xlabel(\"k neighbors\")\n",
    "plt.ylabel(\"Testing accuracy Score\")\n",
    "plt.show()"
   ]
  },
  {
   "cell_type": "code",
   "execution_count": 113,
   "metadata": {},
   "outputs": [],
   "source": [
    "model = KNeighborsClassifier(n_neighbors=41)"
   ]
  },
  {
   "cell_type": "code",
   "execution_count": 114,
   "metadata": {},
   "outputs": [
    {
     "name": "stdout",
     "output_type": "stream",
     "text": [
      "Training Data Score: 0.7080800615393897\n",
      "Testing Data Score: 0.7080542986425339\n"
     ]
    }
   ],
   "source": [
    "model.fit(X_train_scaled, y_train)\n",
    "print(f\"Training Data Score: {model.score(X_train, y_train)}\")\n",
    "print(f\"Testing Data Score: {model.score(X_test, y_test)}\")"
   ]
  },
  {
   "cell_type": "code",
   "execution_count": 115,
   "metadata": {},
   "outputs": [],
   "source": [
    "predictions = model.predict(X_test)"
   ]
  },
  {
   "cell_type": "code",
   "execution_count": 116,
   "metadata": {},
   "outputs": [
    {
     "name": "stdout",
     "output_type": "stream",
     "text": [
      "First 10 Predictions:   [0, 0, 0, 0, 0, 0, 0, 0, 0, 0]\n",
      "First 10 Actual labels: [0, 0, 0, 1, 1, 0, 1, 0, 1, 1]\n"
     ]
    }
   ],
   "source": [
    "print(f\"First 10 Predictions:   {predictions[:10].tolist()}\")\n",
    "print(f\"First 10 Actual labels: {y_test[:10].tolist()}\")"
   ]
  },
  {
   "cell_type": "code",
   "execution_count": 117,
   "metadata": {},
   "outputs": [
    {
     "name": "stdout",
     "output_type": "stream",
     "text": [
      "              precision    recall  f1-score   support\n",
      "\n",
      "     Delayed       0.71      1.00      0.83     15648\n",
      "      Normal       0.00      0.00      0.00      6452\n",
      "\n",
      "    accuracy                           0.71     22100\n",
      "   macro avg       0.35      0.50      0.41     22100\n",
      "weighted avg       0.50      0.71      0.59     22100\n",
      "\n"
     ]
    }
   ],
   "source": [
    "from sklearn.metrics import classification_report\n",
    "print(classification_report(y_test, predictions,\n",
    "                target_names=df1['Flight_Status'].unique()))"
   ]
  },
  {
   "cell_type": "markdown",
   "metadata": {},
   "source": [
    "# Hyperparameter Tuning\n",
    "\n",
    "Use `GridSearchCV` to tune the model's parameters"
   ]
  },
  {
   "cell_type": "code",
   "execution_count": 118,
   "metadata": {},
   "outputs": [
    {
     "name": "stdout",
     "output_type": "stream",
     "text": [
      "Fitting 3 folds for each of 120 candidates, totalling 360 fits\n"
     ]
    },
    {
     "name": "stderr",
     "output_type": "stream",
     "text": [
      "[Parallel(n_jobs=-1)]: Using backend LokyBackend with 12 concurrent workers.\n",
      "[Parallel(n_jobs=-1)]: Done   8 tasks      | elapsed:    3.4s\n",
      "[Parallel(n_jobs=-1)]: Done 104 tasks      | elapsed:   15.6s\n",
      "[Parallel(n_jobs=-1)]: Done 264 tasks      | elapsed:   40.5s\n",
      "[Parallel(n_jobs=-1)]: Done 360 out of 360 | elapsed:   58.9s finished\n"
     ]
    }
   ],
   "source": [
    "from sklearn.model_selection import GridSearchCV\n",
    "param_grid = {\n",
    "    'n_neighbors': [ 1,3,5,7,9,11,13,15,17,19, 21, 23, 25, 27, 29, 31, 33, 35, 37, 39, 41, 43, 45, 47, 49, 51, 53,55,57,59],\n",
    "    'weights': ['uniform', 'distance'],\n",
    "    'metric': ['euclidean', 'manhattan']}\n",
    "grid = GridSearchCV(model, param_grid, verbose=3, cv=3, n_jobs=-1)\n",
    "grid_result = grid.fit(X_train, y_train)"
   ]
  },
  {
   "cell_type": "code",
   "execution_count": 119,
   "metadata": {},
   "outputs": [
    {
     "name": "stdout",
     "output_type": "stream",
     "text": [
      "Best params : {'metric': 'euclidean', 'n_neighbors': 55, 'weights': 'uniform'}\n",
      "Best score:  0.9224573472575113\n"
     ]
    }
   ],
   "source": [
    "print(\"Best params :\", grid.best_params_)\n",
    "print(\"Best score: \", grid.best_score_)"
   ]
  },
  {
   "cell_type": "code",
   "execution_count": 120,
   "metadata": {},
   "outputs": [
    {
     "name": "stdout",
     "output_type": "stream",
     "text": [
      "              precision    recall  f1-score   support\n",
      "\n",
      "     Delayed       0.92      0.97      0.95     15648\n",
      "      Normal       0.92      0.81      0.86      6452\n",
      "\n",
      "    accuracy                           0.92     22100\n",
      "   macro avg       0.92      0.89      0.90     22100\n",
      "weighted avg       0.92      0.92      0.92     22100\n",
      "\n"
     ]
    }
   ],
   "source": [
    "# Make predictions with the hypertuned model\n",
    "predictions = grid_result1.predict(X_test)\n",
    "print(classification_report(y_test, predictions,\n",
    "                target_names=df1['Flight_Status'].unique()))"
   ]
  },
  {
   "cell_type": "code",
   "execution_count": 121,
   "metadata": {},
   "outputs": [
    {
     "name": "stdout",
     "output_type": "stream",
     "text": [
      "              precision    recall  f1-score   support\n",
      "\n",
      "     Delayed       0.92      0.97      0.95     15648\n",
      "      Normal       0.92      0.81      0.86      6452\n",
      "\n",
      "    accuracy                           0.92     22100\n",
      "   macro avg       0.92      0.89      0.90     22100\n",
      "weighted avg       0.92      0.92      0.92     22100\n",
      "\n"
     ]
    }
   ],
   "source": [
    "KNNmodel = KNeighborsClassifier(n_neighbors=55, metric='euclidean', weights='uniform')\n",
    "KNNmodel.fit(X_train,y_train)\n",
    "predictions = KNNmodel.predict(X_test)\n",
    "print(classification_report(y_test, predictions,\n",
    "                target_names=df1['Flight_Status'].unique()))"
   ]
  },
  {
   "cell_type": "code",
   "execution_count": 122,
   "metadata": {},
   "outputs": [
    {
     "name": "stdout",
     "output_type": "stream",
     "text": [
      "Accuracy for KNN on data:  0.9233936651583711\n"
     ]
    }
   ],
   "source": [
    "from sklearn.metrics import accuracy_score\n",
    "print(\"Accuracy for KNN on data: \",accuracy_score(y_test,predictions))"
   ]
  },
  {
   "cell_type": "code",
   "execution_count": 123,
   "metadata": {},
   "outputs": [
    {
     "data": {
      "text/plain": [
       "['KNNmodel.sav']"
      ]
     },
     "execution_count": 123,
     "metadata": {},
     "output_type": "execute_result"
    }
   ],
   "source": [
    "# save your model by updating \"your_name\" with your name\n",
    "# and \"your_model\" with your model variable\n",
    "# be sure to turn this in to BCS\n",
    "# if joblib fails to import, try running the command to install in terminal/git-bash\n",
    "import joblib\n",
    "filename = 'KNNmodel.sav'\n",
    "joblib.dump(model, filename)"
   ]
  },
  {
   "cell_type": "code",
   "execution_count": 124,
   "metadata": {},
   "outputs": [
    {
     "name": "stdout",
     "output_type": "stream",
     "text": [
      "Number of mislabeled points out of a total 22100 points : 3466\n"
     ]
    }
   ],
   "source": [
    "from sklearn.naive_bayes import GaussianNB\n",
    "gnb = GaussianNB()\n",
    "y_pred = gnb.fit(X_train, y_train).predict(X_test)\n",
    "print(\"Number of mislabeled points out of a total %d points : %d\"\n",
    "      % (X_test.shape[0], (y_test != y_pred).sum()))\n"
   ]
  },
  {
   "cell_type": "code",
   "execution_count": null,
   "metadata": {},
   "outputs": [],
   "source": []
  }
 ],
 "metadata": {
  "kernelspec": {
   "display_name": "Python 3",
   "language": "python",
   "name": "python3"
  },
  "language_info": {
   "codemirror_mode": {
    "name": "ipython",
    "version": 3
   },
   "file_extension": ".py",
   "mimetype": "text/x-python",
   "name": "python",
   "nbconvert_exporter": "python",
   "pygments_lexer": "ipython3",
   "version": "3.7.7"
  }
 },
 "nbformat": 4,
 "nbformat_minor": 4
}
